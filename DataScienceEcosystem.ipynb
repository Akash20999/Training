{
 "cells": [
  {
   "cell_type": "markdown",
   "id": "24e77094-4b9f-4726-82c6-eeda8f3d487f",
   "metadata": {},
   "source": [
    "# Data science Tools and Ecosystem"
   ]
  },
  {
   "cell_type": "markdown",
   "id": "aacf34d2-5b03-4c4c-987d-b088606c0b31",
   "metadata": {},
   "source": [
    "# In this notebook, Data Science Tools and Ecosystem are sumarized."
   ]
  },
  {
   "cell_type": "markdown",
   "id": "b992ac89-fcdb-4bcf-961a-c70aab950d09",
   "metadata": {},
   "source": [
    "# Some of the popular languages that Data Scientists use are:\n",
    "# 1. Python \n",
    "# 2. R\n",
    "# 3. Java"
   ]
  },
  {
   "cell_type": "markdown",
   "id": "22b0afe6-b97b-4645-b80a-77728faac8ff",
   "metadata": {
    "tags": []
   },
   "source": [
    "# Some of the commonly used libraries used by Data Scientists include:\n",
    "# 1. Pandas\n",
    "# 2. Numpy\n",
    "# 3. Matplotlib"
   ]
  },
  {
   "cell_type": "markdown",
   "id": "d50a7b90-6829-485f-a0ed-7e379d64b1fe",
   "metadata": {
    "tags": []
   },
   "source": [
    "| Data Science Tools |\n",
    "|--------------------|\n",
    "| Jupyter Notebook   |\n",
    "| Rstudio            |\n",
    "| Python             |"
   ]
  },
  {
   "cell_type": "markdown",
   "id": "ed054fa1-3aaa-4a5b-afc5-15ed44260cd7",
   "metadata": {},
   "source": [
    "### Below are a few examples of evaluating arithmetic expressions in Python\n"
   ]
  },
  {
   "cell_type": "code",
   "execution_count": 5,
   "id": "c1e37ea2-ee3e-4144-95d7-44d11c35dbe3",
   "metadata": {
    "tags": []
   },
   "outputs": [
    {
     "data": {
      "text/plain": [
       "17"
      ]
     },
     "execution_count": 5,
     "metadata": {},
     "output_type": "execute_result"
    }
   ],
   "source": [
    "# This a simple arithmetic expression to mutiply then add integers\n",
    "(3*4)+5"
   ]
  },
  {
   "cell_type": "code",
   "execution_count": 6,
   "id": "8b031913-74b1-491f-9d92-e836f74eea81",
   "metadata": {
    "tags": []
   },
   "outputs": [
    {
     "data": {
      "text/plain": [
       "3.3333333333333335"
      ]
     },
     "execution_count": 6,
     "metadata": {},
     "output_type": "execute_result"
    }
   ],
   "source": [
    "# This will convert 200 minutes to hours by diving by 60\n",
    "200 / 60"
   ]
  },
  {
   "cell_type": "code",
   "execution_count": null,
   "id": "c34423ff-03ed-43b4-ad5f-16b4f41eff8b",
   "metadata": {},
   "outputs": [],
   "source": [
    "**Objectives:**\n",
    "# - List popular languages for Data Science\n",
    "# - Commonly used libraries used by Data Scientists\n",
    "# - Examples of evaluating arithmetic expressions in Python"
   ]
  },
  {
   "cell_type": "code",
   "execution_count": null,
   "id": "3650dd68-efe8-4058-bb77-16a24dbc5a17",
   "metadata": {},
   "outputs": [],
   "source": [
    "## Author Akash \n",
    "# Akash Badal"
   ]
  }
 ],
 "metadata": {
  "kernelspec": {
   "display_name": "Python",
   "language": "python",
   "name": "conda-env-python-py"
  },
  "language_info": {
   "codemirror_mode": {
    "name": "ipython",
    "version": 3
   },
   "file_extension": ".py",
   "mimetype": "text/x-python",
   "name": "python",
   "nbconvert_exporter": "python",
   "pygments_lexer": "ipython3",
   "version": "3.7.12"
  }
 },
 "nbformat": 4,
 "nbformat_minor": 5
}
